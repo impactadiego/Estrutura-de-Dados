{
  "nbformat": 4,
  "nbformat_minor": 0,
  "metadata": {
    "colab": {
      "name": "Teste.ipynb",
      "provenance": [],
      "private_outputs": true,
      "collapsed_sections": [],
      "include_colab_link": true
    },
    "kernelspec": {
      "name": "python3",
      "display_name": "Python 3"
    }
  },
  "cells": [
    {
      "cell_type": "markdown",
      "metadata": {
        "id": "view-in-github",
        "colab_type": "text"
      },
      "source": [
        "<a href=\"https://colab.research.google.com/github/impactadiego/Estrutura-de-Dados/blob/master/Teste.ipynb\" target=\"_parent\"><img src=\"https://colab.research.google.com/assets/colab-badge.svg\" alt=\"Open In Colab\"/></a>"
      ]
    },
    {
      "cell_type": "code",
      "metadata": {
        "id": "SIO0mp9psGN4",
        "colab_type": "code",
        "cellView": "both",
        "colab": {}
      },
      "source": [
        "#Olá mundo\n",
        "print (\"hello\")"
      ],
      "execution_count": 0,
      "outputs": []
    },
    {
      "cell_type": "code",
      "metadata": {
        "id": "S-x_I6uc_nH3",
        "colab_type": "code",
        "colab": {}
      },
      "source": [
        "# Quicksort\n",
        "\n",
        "def partition(arr,low,high): \n",
        "\ti = ( low-1 )\t\t\n",
        "\tpivot = arr[high]\t \n",
        "\n",
        "\tfor j in range(low , high): \n",
        "\n",
        "\t\tif arr[j] <= pivot: \n",
        "\t\t\n",
        "\t\t\ti = i+1\n",
        "\t\t\tarr[i],arr[j] = arr[j],arr[i] \n",
        "\n",
        "\tarr[i+1],arr[high] = arr[high],arr[i+1] \n",
        "\treturn ( i+1 ) \n",
        "\n",
        "def quickSort(arr,low,high): \n",
        "\tif low < high: \n",
        "\n",
        "\t\tpi = partition(arr,low,high) \n",
        "\n",
        "\t\tquickSort(arr, low, pi-1) \n",
        "\t\tquickSort(arr, pi+1, high) \n",
        "\n",
        "arr = [10, 7, 8, 9, 1, 5] \n",
        "n = len(arr) \n",
        "quickSort(arr,0,n-1) \n",
        "print (\"Ordenação:\") \n",
        "for i in range(n): \n",
        "\tprint (\"%d\" %arr[i]), \n",
        "\n"
      ],
      "execution_count": 0,
      "outputs": []
    }
  ]
}